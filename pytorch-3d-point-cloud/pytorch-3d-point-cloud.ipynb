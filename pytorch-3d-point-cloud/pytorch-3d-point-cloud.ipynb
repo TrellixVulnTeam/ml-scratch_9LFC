{
 "cells": [
  {
   "cell_type": "markdown",
   "metadata": {},
   "source": [
    "# Pytorch: Learning Efficient Point Cloud Generation for Dense 3D Object Reconstruction"
   ]
  },
  {
   "cell_type": "markdown",
   "metadata": {},
   "source": [
    "from https://github.com/lkhphuc/pytorch-3d-point-cloud-generation.git"
   ]
  },
  {
   "cell_type": "markdown",
   "metadata": {},
   "source": [
    "Requires\n",
    "* Python3\n",
    "* PyTorch 0.4"
   ]
  },
  {
   "cell_type": "code",
   "execution_count": null,
   "metadata": {},
   "outputs": [],
   "source": [
    "import matplotlib.pyplot as plt\n",
    "import numpy as np\n",
    "import pandas as pd\n",
    "import scipy.io\n",
    "import torch\n",
    "\n",
    "import transform\n",
    "import utils"
   ]
  },
  {
   "cell_type": "markdown",
   "metadata": {},
   "source": [
    "Download the demonstration data set\n",
    "from wget https://cmu.box.com/shared/static/s4lkm5ej7sh4px72vesr17b1gxam4hgy.gz"
   ]
  },
  {
   "cell_type": "code",
   "execution_count": null,
   "metadata": {},
   "outputs": [],
   "source": [
    "#wget https://cmu.box.com/shared/static/s4lkm5ej7sh4px72vesr17b1gxam4hgy.gz"
   ]
  },
  {
   "cell_type": "markdown",
   "metadata": {},
   "source": [
    "Pretrain the network using scripts/train-stg1.sh"
   ]
  },
  {
   "cell_type": "code",
   "execution_count": 1,
   "metadata": {},
   "outputs": [
    {
     "ename": "ModuleNotFoundError",
     "evalue": "No module named 'options'",
     "output_type": "error",
     "traceback": [
      "\u001b[0;31m---------------------------------------------------------------------------\u001b[0m",
      "\u001b[0;31mModuleNotFoundError\u001b[0m                       Traceback (most recent call last)",
      "\u001b[0;32m<ipython-input-1-c20a604daa35>\u001b[0m in \u001b[0;36m<module>\u001b[0;34m\u001b[0m\n\u001b[0;32m----> 1\u001b[0;31m \u001b[0;32mimport\u001b[0m \u001b[0moptions\u001b[0m\u001b[0;34m\u001b[0m\u001b[0;34m\u001b[0m\u001b[0m\n\u001b[0m\u001b[1;32m      2\u001b[0m \u001b[0;32mimport\u001b[0m \u001b[0mutils\u001b[0m\u001b[0;34m\u001b[0m\u001b[0;34m\u001b[0m\u001b[0m\n\u001b[1;32m      3\u001b[0m \u001b[0;32mfrom\u001b[0m \u001b[0mtrainer\u001b[0m \u001b[0;32mimport\u001b[0m \u001b[0mTrainerStage1\u001b[0m\u001b[0;34m\u001b[0m\u001b[0;34m\u001b[0m\u001b[0m\n\u001b[1;32m      4\u001b[0m \u001b[0;34m\u001b[0m\u001b[0m\n\u001b[1;32m      5\u001b[0m \u001b[0;32mif\u001b[0m \u001b[0m__name__\u001b[0m \u001b[0;34m==\u001b[0m \u001b[0;34m\"__main__\"\u001b[0m\u001b[0;34m:\u001b[0m\u001b[0;34m\u001b[0m\u001b[0;34m\u001b[0m\u001b[0m\n",
      "\u001b[0;31mModuleNotFoundError\u001b[0m: No module named 'options'"
     ]
    }
   ],
   "source": [
    "import options\n",
    "import utils\n",
    "from trainer import TrainerStage1\n",
    "\n",
    "if __name__ == \"__main__\":\n",
    "\n",
    "    print(\"=======================================================\")\n",
    "    print(\"Find optimal LR for structure generator with fixed viewpoints\")\n",
    "    print(\"=======================================================\")\n",
    "\n",
    "    cfg = options.get_arguments()\n",
    "\n",
    "    EXPERIMENT = f\"{cfg.model}_{cfg.experiment}_findLR\"\n",
    "\n",
    "    criterions = utils.define_losses()\n",
    "    dataloaders = utils.make_data_fixed(cfg)\n",
    "\n",
    "    model = utils.build_structure_generator(cfg).to(cfg.device)\n",
    "    optimizer = utils.make_optimizer(cfg, model)\n",
    "\n",
    "    writer = utils.make_summary_writer(EXPERIMENT)\n",
    "\n",
    "    trainer = TrainerStage1(cfg, dataloaders, criterions)\n",
    "    trainer.findLR(model, optimizer, writer,\n",
    "                   start_lr=cfg.startLR, end_lr=cfg.endLR,\n",
    "                   num_iters=cfg.itersLR) \n",
    "\n",
    "    writer.close()"
   ]
  },
  {
   "cell_type": "markdown",
   "metadata": {},
   "source": [
    "Fine-tuning with joint 2D optimization: scripts/train-stg2.sh"
   ]
  },
  {
   "cell_type": "code",
   "execution_count": null,
   "metadata": {},
   "outputs": [],
   "source": [
    "import options\n",
    "import utils\n",
    "from trainer import TrainerStage2\n",
    "\n",
    "if __name__ == \"__main__\":\n",
    "\n",
    "    print(\"=======================================================\")\n",
    "    print(\"Train structure generator  with joint 2D optimization from novel viewpoints\")\n",
    "    print(\"=======================================================\")\n",
    "\n",
    "    cfg = options.get_arguments()\n",
    "\n",
    "    EXPERIMENT = f\"{cfg.model}_{cfg.experiment}\"\n",
    "    MODEL_PATH = f\"models/{EXPERIMENT}\"\n",
    "    LOG_PATH = f\"logs/{EXPERIMENT}\"\n",
    "\n",
    "    utils.make_folder(MODEL_PATH)\n",
    "    utils.make_folder(LOG_PATH)\n",
    "\n",
    "    criterions = utils.define_losses()\n",
    "    dataloaders = utils.make_data_novel(cfg)\n",
    "\n",
    "    model = utils.build_structure_generator(cfg).to(cfg.device)\n",
    "    optimizer = utils.make_optimizer(cfg, model)\n",
    "    scheduler = utils.make_lr_scheduler(cfg, optimizer)\n",
    "\n",
    "    logger = utils.make_logger(LOG_PATH)\n",
    "    writer = utils.make_summary_writer(EXPERIMENT)\n",
    "\n",
    "    def on_after_epoch(model, df_hist, images, epoch, saveEpoch):\n",
    "        utils.save_best_model(MODEL_PATH, model, df_hist)\n",
    "        utils.checkpoint_model(MODEL_PATH, model, epoch, saveEpoch)\n",
    "        utils.log_hist(logger, df_hist)\n",
    "        utils.write_on_board_losses_stg2(writer, df_hist)\n",
    "        utils.write_on_board_images_stg2(writer, images, epoch)\n",
    "\n",
    "    if cfg.lrSched is not None:\n",
    "        def on_after_batch(iteration):\n",
    "            utils.write_on_board_lr(writer, scheduler.get_lr(), iteration)\n",
    "            scheduler.step(iteration)\n",
    "    else: on_after_batch = None\n",
    "\n",
    "    trainer = TrainerStage2(\n",
    "        cfg, dataloaders, criterions, on_after_epoch, on_after_batch) \n",
    "\n",
    "    hist = trainer.train(model, optimizer, scheduler)\n",
    "    hist.to_csv(f\"{LOG_PATH}.csv\", index=False)\n",
    "    writer.close()\n"
   ]
  }
 ],
 "metadata": {
  "kernelspec": {
   "display_name": "Python 3",
   "language": "python",
   "name": "python3"
  },
  "language_info": {
   "codemirror_mode": {
    "name": "ipython",
    "version": 3
   },
   "file_extension": ".py",
   "mimetype": "text/x-python",
   "name": "python",
   "nbconvert_exporter": "python",
   "pygments_lexer": "ipython3",
   "version": "3.7.3"
  }
 },
 "nbformat": 4,
 "nbformat_minor": 4
}
